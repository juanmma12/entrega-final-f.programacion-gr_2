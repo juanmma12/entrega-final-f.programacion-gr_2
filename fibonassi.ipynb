{
  "nbformat": 4,
  "nbformat_minor": 0,
  "metadata": {
    "colab": {
      "provenance": []
    },
    "kernelspec": {
      "name": "python3",
      "display_name": "Python 3"
    },
    "language_info": {
      "name": "python"
    }
  },
  "cells": [
    {
      "cell_type": "code",
      "execution_count": null,
      "metadata": {
        "id": "1fSdwsn2YCoo"
      },
      "outputs": [],
      "source": [
        "n=int(input(\"Enter the value of 'n': \"))\n",
        "#first two terms are first and second\n",
        "first=0\n",
        "second=1\n",
        "sum=0\n",
        "count=1\n",
        "print(\"Fibonacci Sequence: \")\n",
        "# Count should not be more then n.\n",
        "while(count<=n):    \n",
        "  print(sum)\n",
        "  count+=1\n",
        "  first=second\n",
        "  second=sum\n",
        "  sum=first+second"
      ]
    }
  ]
}