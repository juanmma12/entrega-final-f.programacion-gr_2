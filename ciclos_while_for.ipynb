{
  "nbformat": 4,
  "nbformat_minor": 0,
  "metadata": {
    "colab": {
      "provenance": []
    },
    "kernelspec": {
      "name": "python3",
      "display_name": "Python 3"
    },
    "language_info": {
      "name": "python"
    }
  },
  "cells": [
    {
      "cell_type": "code",
      "execution_count": null,
      "metadata": {
        "id": "A1hPK5fNxUFN"
      },
      "outputs": [],
      "source": [
        "anterior = (0)\n",
        "posterior = (1)\n",
        "termino = int(input(\"por favor ingrese el numero de termino a imprimir: \"))\n",
        "\n",
        "\n",
        "\n",
        "for x in range(0,termino):\n",
        "  valor = anterior+posterior\n",
        "  anterior = posterior\n",
        "  posterior = valor\n",
        "  print(valor)"
      ]
    },
    {
      "cell_type": "code",
      "source": [
        "n= int(input(\"ingrese un valor: \"))\n",
        "if n==5:\n",
        "  contador=0\n",
        "  for i in range(n):\n",
        "    m= i+1\n",
        "    n= m+1\n",
        "    contador= contador + (m*n)\n",
        "  print(contador)\n",
        "elif n==3:\n",
        "  resultado=0\n",
        "  for i in range (n):\n",
        "    resultado= resultado+(pow(2,i))\n",
        "  print(resultado)\n",
        "\n",
        "elif n==100:\n",
        "  resultado=0\n",
        "  for i in range (n):\n",
        "    resultado= resultado+(pow(2,i))\n",
        "  print(resultado)\n",
        "\n",
        "\n",
        "else:\n",
        "   print(\"numero no valido siga intentando\")"
      ],
      "metadata": {
        "id": "kSJFAFwUxdNd"
      },
      "execution_count": null,
      "outputs": []
    },
    {
      "cell_type": "code",
      "source": [
        "n=int(input(\"Enter the value of 'n': \"))\n",
        "#first two terms are first and second\n",
        "first=0\n",
        "second=1\n",
        "sum=0\n",
        "count=1\n",
        "print(\"Fibonacci Sequence: \")\n",
        "# Count should not be more then n.\n",
        "while(count<=n):    \n",
        "  print(sum)\n",
        "  count+=1\n",
        "  first=second\n",
        "  second=sum\n",
        "  sum=first+second"
      ],
      "metadata": {
        "id": "AVsM7trtxfDZ"
      },
      "execution_count": null,
      "outputs": []
    }
  ]
}