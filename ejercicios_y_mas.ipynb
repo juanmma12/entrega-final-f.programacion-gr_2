{
  "nbformat": 4,
  "nbformat_minor": 0,
  "metadata": {
    "colab": {
      "provenance": []
    },
    "kernelspec": {
      "name": "python3",
      "display_name": "Python 3"
    },
    "language_info": {
      "name": "python"
    }
  },
  "cells": [
    {
      "cell_type": "code",
      "execution_count": null,
      "metadata": {
        "id": "AcxQDIQFYRut"
      },
      "outputs": [],
      "source": [
        "lado1=float(input(\"ingrese el valor del lado 1: \"))\n",
        "lado2=float(input(\"ingrese el valor del lado 2: \"))\n",
        "area= lado1*lado2\n",
        "perimetro= (lado1*2)+(lado2*2)\n",
        "print(\"el area es: \", area)\n",
        "print(\"el perimeto es: \", perimetro)"
      ]
    },
    {
      "cell_type": "markdown",
      "source": [
        "Ejercicio 1:\n",
        "\n",
        "Dos Pueblos que distan 12 km estan unidos por una carretera recta.Un ciclista viaja de un pueblo al con otro con una velocidad constante de 10m/s. Calcula el tiempo que emplea\n",
        "\n",
        "Nombre del Programa\n",
        "\n",
        "Ejercicio 1\n",
        "\n",
        "Autores juan manuel lopez \n",
        "\n",
        "Fecha"
      ],
      "metadata": {
        "id": "YrXCU5HnYgDO"
      }
    },
    {
      "cell_type": "code",
      "source": [
        "\n",
        "\n",
        "Version\n",
        "\n",
        "# Declaracion \n",
        "distanciaPueblos= 0 # Variable donde se captura la distancia\n",
        "\"\"\"Obtencion  de datos\"\"\"\n",
        "distanciaPueblos= int(input(\"¿Cual es la distancia en km entre pueblos \"));\n",
        "VelocidadCicla= int(input(\"¿Cual es la velocidad del en m/s? \"));\n",
        "¿Cual es la distancia en km entre pueblos12\n",
        "¿Cual es la velocidad del en m/s?9\n",
        "\"\"\"Caculo tiempo\"\"\"\n",
        "distanciaPueblos=(distanciaPueblos*1000);\n",
        "tiempo=int((distanciaPueblos/VelocidadCicla)/60)\n",
        "\"\"\"Impresion de Datos\"\"\"\n",
        "print(\"el tiempo empleado por el ciclista es {}\")"
      ],
      "metadata": {
        "id": "pUZQA0ySYbWL"
      },
      "execution_count": null,
      "outputs": []
    },
    {
      "cell_type": "code",
      "source": [
        "estatura= float(input(\"ingrese su estatura: \"))\n",
        "peso= int(input(\"ingrese su peso: \"))\n",
        "metros= estatura/100\n",
        "masa= peso/(pow(metros,2))\n",
        "print(\"su masa corporal es: \", masa)"
      ],
      "metadata": {
        "id": "87EAEPVnY1fB"
      },
      "execution_count": null,
      "outputs": []
    },
    {
      "cell_type": "code",
      "source": [
        "num1= int(input(\"ingrese el valor de su compra\"))\n",
        "iva= num1*2.85\n",
        "descuento= iva/2.05\n",
        "print(\"el precio total con iva y descuento es\")\n",
        "print(descuento)"
      ],
      "metadata": {
        "id": "BdrmDpHEY6tH"
      },
      "execution_count": null,
      "outputs": []
    }
  ]
}