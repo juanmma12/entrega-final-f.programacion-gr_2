{
  "nbformat": 4,
  "nbformat_minor": 0,
  "metadata": {
    "colab": {
      "provenance": []
    },
    "kernelspec": {
      "name": "python3",
      "display_name": "Python 3"
    },
    "language_info": {
      "name": "python"
    }
  },
  "cells": [
    {
      "cell_type": "code",
      "execution_count": null,
      "metadata": {
        "colab": {
          "base_uri": "https://localhost:8080/"
        },
        "id": "gbsgt-VIC3sf",
        "outputId": "366b686e-3ab4-47aa-d355-ed827ba4afa8"
      },
      "outputs": [
        {
          "output_type": "stream",
          "name": "stdout",
          "text": [
            "mi coche tiene  4 ruedas\n",
            "mi coche tiene  gasolina  de combustible\n",
            "mi coche tiene  1000 cilindraje\n",
            "mi coche tiene  3 puertas\n",
            "el coche se esta desplazando sobre 4 ruedas\n"
          ]
        }
      ],
      "source": [
        "class coche():\n",
        "  #atributos\n",
        "  ruedas=4\n",
        "  cilindraje = 1000\n",
        "  combustible= \"gasolina\"\n",
        "  puertas = 3\n",
        "  #metodo\n",
        "  def desplazamiento(self):\n",
        "    print(\"el coche se esta desplazando sobre 4 ruedas\")\n",
        "#programa principal\n",
        "\n",
        "#generar una instancia de la clase\n",
        "#instanciar un objeto\n",
        "#declarar u  objeto\n",
        "miVehiculo=coche()\n",
        "obj_miCarrito=coche()\n",
        "#axxeso al atributo\n",
        "print(\"mi coche tiene \",miVehiculo.ruedas, \"ruedas\")\n",
        "print(\"mi coche tiene \",miVehiculo.combustible, \" de combustible\")\n",
        "print(\"mi coche tiene \",miVehiculo.cilindraje, \"cilindraje\")\n",
        "print(\"mi coche tiene \",miVehiculo.puertas, \"puertas\")\n",
        "#forma que un objeto solicita que se ejecute un metodo\n",
        "miVehiculo.desplazamiento()\n",
        "obj_miCarrito.dezplazamiento=coche()"
      ]
    },
    {
      "cell_type": "code",
      "source": [
        "class coche():\n",
        "  ruedas=4\n",
        "  def desplazamiento(self):\n",
        "    print(\"el coche se esta desplazando sobre 4 ruedas\")\n",
        "class moto():\n",
        "  ruedas=2\n",
        "  def desplazamiento(self):\n",
        "    print"
      ],
      "metadata": {
        "id": "9zqMS-VeLb8O"
      },
      "execution_count": null,
      "outputs": []
    },
    {
      "cell_type": "code",
      "source": [
        "#constructor\n",
        "class cachorro():\n",
        "  #metodo constructor\n",
        "  def __init__ (self, p_color, p_raza):\n",
        "    self.color = p_color\n",
        "    self.raza = p_raza\n",
        "\n",
        "perrito=cachorro(\"marrón claro\", \"golden retriever\")\n",
        "\n",
        "print(\"este es un cachorro de la raza{} y es de color{}\".format(perrito.raza, perrito.color))\n"
      ],
      "metadata": {
        "colab": {
          "base_uri": "https://localhost:8080/"
        },
        "id": "tSqrJViYMm1h",
        "outputId": "fb66f069-3bff-4732-ae18-8853f03b81d6"
      },
      "execution_count": null,
      "outputs": [
        {
          "output_type": "stream",
          "name": "stdout",
          "text": [
            "este es un cachorro de la razagolden retriever y es de colormarrón claro\n"
          ]
        }
      ]
    },
    {
      "cell_type": "code",
      "source": [
        "#constructor\n",
        "class cachorro():\n",
        "  #metodo constructor\n",
        "  def __init__ (self, p_color, p_raza,p_nombre):\n",
        "    self.color = p_color\n",
        "    self.raza = p_raza\n",
        "    self.nombre= p_nombre \n",
        "# modulo Principal\n",
        "p_color=input(\"color : \")\n",
        "p_raza=input(\"raza : \")\n",
        "\n",
        "perrito=cachorro(p_color,p_raza,p_nombre)\n",
        "print(\"Este es un cachorro sin dueño y la raza{} y es de color{}y se llama{}\")\n",
        "format(perrito.raza,perrito.color,perrito.nombre)"
      ],
      "metadata": {
        "id": "Ar01Jg3MdB1s",
        "colab": {
          "base_uri": "https://localhost:8080/",
          "height": 380
        },
        "outputId": "f098957c-7c22-40bd-e0cf-b43752d925dc"
      },
      "execution_count": null,
      "outputs": [
        {
          "output_type": "error",
          "ename": "KeyboardInterrupt",
          "evalue": "ignored",
          "traceback": [
            "\u001b[0;31m---------------------------------------------------------------------------\u001b[0m",
            "\u001b[0;31mKeyboardInterrupt\u001b[0m                         Traceback (most recent call last)",
            "\u001b[0;32m<ipython-input-2-35eaede171bf>\u001b[0m in \u001b[0;36m<module>\u001b[0;34m\u001b[0m\n\u001b[1;32m      7\u001b[0m     \u001b[0mself\u001b[0m\u001b[0;34m.\u001b[0m\u001b[0mnombre\u001b[0m\u001b[0;34m=\u001b[0m \u001b[0mp_nombre\u001b[0m\u001b[0;34m\u001b[0m\u001b[0;34m\u001b[0m\u001b[0m\n\u001b[1;32m      8\u001b[0m \u001b[0;31m# modulo Principal\u001b[0m\u001b[0;34m\u001b[0m\u001b[0;34m\u001b[0m\u001b[0;34m\u001b[0m\u001b[0m\n\u001b[0;32m----> 9\u001b[0;31m \u001b[0mp_color\u001b[0m\u001b[0;34m=\u001b[0m\u001b[0minput\u001b[0m\u001b[0;34m(\u001b[0m\u001b[0;34m\"color : \"\u001b[0m\u001b[0;34m)\u001b[0m\u001b[0;34m\u001b[0m\u001b[0;34m\u001b[0m\u001b[0m\n\u001b[0m\u001b[1;32m     10\u001b[0m \u001b[0mp_raza\u001b[0m\u001b[0;34m=\u001b[0m\u001b[0minput\u001b[0m\u001b[0;34m(\u001b[0m\u001b[0;34m\"raza : \"\u001b[0m\u001b[0;34m)\u001b[0m\u001b[0;34m\u001b[0m\u001b[0;34m\u001b[0m\u001b[0m\n\u001b[1;32m     11\u001b[0m \u001b[0;34m\u001b[0m\u001b[0m\n",
            "\u001b[0;32m/usr/local/lib/python3.7/dist-packages/ipykernel/kernelbase.py\u001b[0m in \u001b[0;36mraw_input\u001b[0;34m(self, prompt)\u001b[0m\n\u001b[1;32m    861\u001b[0m             \u001b[0mself\u001b[0m\u001b[0;34m.\u001b[0m\u001b[0m_parent_ident\u001b[0m\u001b[0;34m,\u001b[0m\u001b[0;34m\u001b[0m\u001b[0;34m\u001b[0m\u001b[0m\n\u001b[1;32m    862\u001b[0m             \u001b[0mself\u001b[0m\u001b[0;34m.\u001b[0m\u001b[0m_parent_header\u001b[0m\u001b[0;34m,\u001b[0m\u001b[0;34m\u001b[0m\u001b[0;34m\u001b[0m\u001b[0m\n\u001b[0;32m--> 863\u001b[0;31m             \u001b[0mpassword\u001b[0m\u001b[0;34m=\u001b[0m\u001b[0;32mFalse\u001b[0m\u001b[0;34m,\u001b[0m\u001b[0;34m\u001b[0m\u001b[0;34m\u001b[0m\u001b[0m\n\u001b[0m\u001b[1;32m    864\u001b[0m         )\n\u001b[1;32m    865\u001b[0m \u001b[0;34m\u001b[0m\u001b[0m\n",
            "\u001b[0;32m/usr/local/lib/python3.7/dist-packages/ipykernel/kernelbase.py\u001b[0m in \u001b[0;36m_input_request\u001b[0;34m(self, prompt, ident, parent, password)\u001b[0m\n\u001b[1;32m    902\u001b[0m             \u001b[0;32mexcept\u001b[0m \u001b[0mKeyboardInterrupt\u001b[0m\u001b[0;34m:\u001b[0m\u001b[0;34m\u001b[0m\u001b[0;34m\u001b[0m\u001b[0m\n\u001b[1;32m    903\u001b[0m                 \u001b[0;31m# re-raise KeyboardInterrupt, to truncate traceback\u001b[0m\u001b[0;34m\u001b[0m\u001b[0;34m\u001b[0m\u001b[0;34m\u001b[0m\u001b[0m\n\u001b[0;32m--> 904\u001b[0;31m                 \u001b[0;32mraise\u001b[0m \u001b[0mKeyboardInterrupt\u001b[0m\u001b[0;34m(\u001b[0m\u001b[0;34m\"Interrupted by user\"\u001b[0m\u001b[0;34m)\u001b[0m \u001b[0;32mfrom\u001b[0m \u001b[0;32mNone\u001b[0m\u001b[0;34m\u001b[0m\u001b[0;34m\u001b[0m\u001b[0m\n\u001b[0m\u001b[1;32m    905\u001b[0m             \u001b[0;32mexcept\u001b[0m \u001b[0mException\u001b[0m \u001b[0;32mas\u001b[0m \u001b[0me\u001b[0m\u001b[0;34m:\u001b[0m\u001b[0;34m\u001b[0m\u001b[0;34m\u001b[0m\u001b[0m\n\u001b[1;32m    906\u001b[0m                 \u001b[0mself\u001b[0m\u001b[0;34m.\u001b[0m\u001b[0mlog\u001b[0m\u001b[0;34m.\u001b[0m\u001b[0mwarning\u001b[0m\u001b[0;34m(\u001b[0m\u001b[0;34m\"Invalid Message:\"\u001b[0m\u001b[0;34m,\u001b[0m \u001b[0mexc_info\u001b[0m\u001b[0;34m=\u001b[0m\u001b[0;32mTrue\u001b[0m\u001b[0;34m)\u001b[0m\u001b[0;34m\u001b[0m\u001b[0;34m\u001b[0m\u001b[0m\n",
            "\u001b[0;31mKeyboardInterrupt\u001b[0m: Interrupted by user"
          ]
        }
      ]
    },
    {
      "cell_type": "code",
      "source": [
        "class c_rectangulo:\n",
        "  def __init__(self,p_ancho,p_alto):\n",
        "    self.at_ancho=p_ancho\n",
        "    self.at_alto=p_alto\n",
        "\n",
        "    def m_area(self):\n",
        "      area=self.at_alto*self.at_ancho\n",
        "      return area\n",
        "\n",
        "    def m_perimetro(self):\n",
        "      perimetro=(self.at_alto*2)+(self.at_ancho*2)\n",
        "      return perimetro\n",
        "\n",
        "r1=C_Rectangulo(4,2)\n",
        "area = r1.m_area()\n",
        "perimetro = r1.m_perimetro()\n",
        "print(\"El area es:\",area)\n",
        "print(\"El perimetro es:\",perimetro)\n",
        "\n",
        "p_ancho= int(input(\"Ancho: \"))\n",
        "p_alto= int(input(\"Alto: \"))\n",
        "\n",
        "obj_rect2 = C_Rectangulo(p_ancho,p_alto)\n",
        "\n",
        "print(\"el area es:\",+obj_rect2.m_area())\n",
        "print(\"el perimetro es:\",+obj_rect2.m_perimetro())\n",
        "\n",
        "\n"
      ],
      "metadata": {
        "id": "lpp2rRcogZON",
        "colab": {
          "base_uri": "https://localhost:8080/",
          "height": 235
        },
        "outputId": "7ed72ca3-be47-4824-8c04-e5edd556cfce"
      },
      "execution_count": null,
      "outputs": [
        {
          "output_type": "error",
          "ename": "NameError",
          "evalue": "ignored",
          "traceback": [
            "\u001b[0;31m---------------------------------------------------------------------------\u001b[0m",
            "\u001b[0;31mNameError\u001b[0m                                 Traceback (most recent call last)",
            "\u001b[0;32m<ipython-input-14-43cc6cafb5bd>\u001b[0m in \u001b[0;36m<module>\u001b[0;34m\u001b[0m\n\u001b[1;32m     12\u001b[0m       \u001b[0;32mreturn\u001b[0m \u001b[0mperimetro\u001b[0m\u001b[0;34m\u001b[0m\u001b[0;34m\u001b[0m\u001b[0m\n\u001b[1;32m     13\u001b[0m \u001b[0;34m\u001b[0m\u001b[0m\n\u001b[0;32m---> 14\u001b[0;31m \u001b[0mr1\u001b[0m\u001b[0;34m=\u001b[0m\u001b[0mC_Rectangulo\u001b[0m\u001b[0;34m(\u001b[0m\u001b[0;36m4\u001b[0m\u001b[0;34m,\u001b[0m\u001b[0;36m2\u001b[0m\u001b[0;34m)\u001b[0m\u001b[0;34m\u001b[0m\u001b[0;34m\u001b[0m\u001b[0m\n\u001b[0m\u001b[1;32m     15\u001b[0m \u001b[0marea\u001b[0m \u001b[0;34m=\u001b[0m \u001b[0mr1\u001b[0m\u001b[0;34m.\u001b[0m\u001b[0mm_area\u001b[0m\u001b[0;34m(\u001b[0m\u001b[0;34m)\u001b[0m\u001b[0;34m\u001b[0m\u001b[0;34m\u001b[0m\u001b[0m\n\u001b[1;32m     16\u001b[0m \u001b[0mperimetro\u001b[0m \u001b[0;34m=\u001b[0m \u001b[0mr1\u001b[0m\u001b[0;34m.\u001b[0m\u001b[0mm_perimetro\u001b[0m\u001b[0;34m(\u001b[0m\u001b[0;34m)\u001b[0m\u001b[0;34m\u001b[0m\u001b[0;34m\u001b[0m\u001b[0m\n",
            "\u001b[0;31mNameError\u001b[0m: name 'C_Rectangulo' is not defined"
          ]
        }
      ]
    }
  ]
}