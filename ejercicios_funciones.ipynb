{
  "nbformat": 4,
  "nbformat_minor": 0,
  "metadata": {
    "colab": {
      "provenance": []
    },
    "kernelspec": {
      "name": "python3",
      "display_name": "Python 3"
    },
    "language_info": {
      "name": "python"
    }
  },
  "cells": [
    {
      "cell_type": "code",
      "source": [
        "#Funcion Taller #1\n",
        "\n",
        "def Ultimo_Dig(num):\n",
        "  UltimoDig = 0\n",
        "  UltimoDig = num%10\n",
        "  return(UltimoDig)\n",
        "\n",
        "#Llamando a la funcion\n",
        "\n",
        "valor = int(input(\"Digite el numero: \"))\n",
        "print(\"El ultimo Digito es: \", Ultimo_Dig(valor))"
      ],
      "metadata": {
        "id": "v5lcSbh6ZSlg"
      },
      "execution_count": null,
      "outputs": []
    },
    {
      "cell_type": "code",
      "execution_count": null,
      "metadata": {
        "id": "Q5LORRgEZMLE"
      },
      "outputs": [],
      "source": [
        "#Funcion Taller #2\n",
        "\n",
        "def Ultimo_Dig(num):\n",
        "  UltimoDig = 0\n",
        "  UltimoDig = num%100\n",
        "  return(UltimoDig)\n",
        "\n",
        "#Llamando a la funcion\n",
        "\n",
        "valor = int(input(\"Digite el numero: \"))\n",
        "print(\"El ultimo Digito es: \", Ultimo_Dig(valor))"
      ]
    },
    {
      "cell_type": "code",
      "source": [
        "#Funcion #3\n",
        "\n",
        "def contardigit(n):\n",
        "    count = 0\n",
        "    while n != 0:\n",
        "      n //=10\n",
        "      count += 1\n",
        "    return count\n",
        "  \n",
        "n = int(input(\"Digite el numero:\"))\n",
        "print(\"Numero digitados: % d\" % (contardigit(n)))"
      ],
      "metadata": {
        "id": "gnhCNhkcZana"
      },
      "execution_count": null,
      "outputs": []
    }
  ]
}