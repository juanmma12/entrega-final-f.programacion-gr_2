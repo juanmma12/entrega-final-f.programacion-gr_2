{
  "nbformat": 4,
  "nbformat_minor": 0,
  "metadata": {
    "colab": {
      "provenance": []
    },
    "kernelspec": {
      "name": "python3",
      "display_name": "Python 3"
    },
    "language_info": {
      "name": "python"
    }
  },
  "cells": [
    {
      "cell_type": "code",
      "execution_count": 1,
      "metadata": {
        "colab": {
          "base_uri": "https://localhost:8080/",
          "height": 304
        },
        "id": "wuT_cs84yiO5",
        "outputId": "4dd339bc-cb35-40b4-d46a-d8c393d65462"
      },
      "outputs": [
        {
          "output_type": "stream",
          "name": "stdout",
          "text": [
            "Ingrese nombre del empleado:  jaud\n",
            "Ingrese el salario basico por hora:  5\n",
            "Ingrese las horas trabajadas durante la semana:  3\n",
            "El salario semanal es 15.0\n",
            "El total de impuesto es 0\n",
            "El salario neto semanal es de: 15.0\n"
          ]
        },
        {
          "output_type": "error",
          "ename": "NameError",
          "evalue": "ignored",
          "traceback": [
            "\u001b[0;31m---------------------------------------------------------------------------\u001b[0m",
            "\u001b[0;31mNameError\u001b[0m                                 Traceback (most recent call last)",
            "\u001b[0;32m<ipython-input-1-6ba0cedb8d2c>\u001b[0m in \u001b[0;36m<module>\u001b[0;34m\u001b[0m\n\u001b[1;32m     27\u001b[0m \u001b[0mSalario_neto\u001b[0m\u001b[0;34m=\u001b[0m \u001b[0mSalario\u001b[0m\u001b[0;34m-\u001b[0m\u001b[0mImpuestos\u001b[0m\u001b[0;34m\u001b[0m\u001b[0;34m\u001b[0m\u001b[0m\n\u001b[1;32m     28\u001b[0m \u001b[0mprint\u001b[0m\u001b[0;34m(\u001b[0m\u001b[0;34m\"El salario neto semanal es de:\"\u001b[0m\u001b[0;34m,\u001b[0m\u001b[0mSalario_neto\u001b[0m\u001b[0;34m)\u001b[0m\u001b[0;34m\u001b[0m\u001b[0;34m\u001b[0m\u001b[0m\n\u001b[0;32m---> 29\u001b[0;31m \u001b[0macuSalario\u001b[0m\u001b[0;34m\u001b[0m\u001b[0;34m\u001b[0m\u001b[0m\n\u001b[0m",
            "\u001b[0;31mNameError\u001b[0m: name 'acuSalario' is not defined"
          ]
        }
      ],
      "source": [
        "#definir variable \n",
        "Nombre= input(\"Ingrese nombre del empleado:  \")\n",
        "Tarifa= float (input(\"Ingrese el salario basico por hora:  \"))\n",
        "Horas= int(input(\"Ingrese las horas trabajadas durante la semana:  \"))\n",
        "\n",
        "#identificar si horas trabajadas es <= 35 y poner condicionales \n",
        "if Horas<=35:\n",
        "  Salario=Horas*Tarifa\n",
        "  print(\"El salario semanal es\",Salario)\n",
        "else:\n",
        "    salario= 35*Tarifa(Horas-35) *Tarifa*1.5\n",
        "    print(\"El salario semanal con recargo es\",salario)\n",
        "\n",
        "#calculo de impuesto\n",
        "if Salario<=2000:\n",
        "  Impuestos=0\n",
        "  print(\"El total de impuesto es\",Impuestos)\n",
        "elif Salario<=2200:\n",
        "  Impuestos=(Salario-2000)*0.20\n",
        "  print(\"El total del impuesto es \",Impuestos)\n",
        "elif Salario >2220:\n",
        " Impuestos=(salario-2220)*0.30+ (220*0.20)\n",
        " print(\"El total de impuesto es\",Impuestos)\n",
        "\n",
        "#Calculo del salario neto\n",
        "\n",
        "Salario_neto= Salario-Impuestos\n",
        "print(\"El salario neto semanal es de:\",Salario_neto)\n",
        "acuSalario"
      ]
    }
  ]
}