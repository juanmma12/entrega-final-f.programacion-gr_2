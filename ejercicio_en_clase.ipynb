{
  "nbformat": 4,
  "nbformat_minor": 0,
  "metadata": {
    "colab": {
      "provenance": []
    },
    "kernelspec": {
      "name": "python3",
      "display_name": "Python 3"
    },
    "language_info": {
      "name": "python"
    }
  },
  "cells": [
    {
      "cell_type": "code",
      "execution_count": null,
      "metadata": {
        "colab": {
          "base_uri": "https://localhost:8080/"
        },
        "id": "KVGwN_TKaVBN",
        "outputId": "80a4faad-6a7a-453d-9b5b-9dae4bc1b436"
      },
      "outputs": [
        {
          "output_type": "stream",
          "name": "stdout",
          "text": [
            "enter de Numero en Rango = 8\n",
            "0  1  1  2  3  5  8  13  la suma de Series de Numeros = 33\n"
          ]
        }
      ],
      "source": [
        "Number = int(input(\"enter de Numero en Rango = \"))\n",
        "\n",
        "First = 0\n",
        "Second = 1\n",
        "Sum = 0\n",
        "\n",
        "for Num in range(0, Number):\n",
        "    print(First, end = '  ')\n",
        "    Sum = Sum + First\n",
        "    Next = First + Second\n",
        "    First = Second\n",
        "    Second = Next\n",
        "\n",
        "print(\"la suma de Series de Numeros = %d\" %Sum)\n"
      ]
    }
  ]
}