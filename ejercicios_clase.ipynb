{
  "nbformat": 4,
  "nbformat_minor": 0,
  "metadata": {
    "colab": {
      "provenance": []
    },
    "kernelspec": {
      "name": "python3",
      "display_name": "Python 3"
    },
    "language_info": {
      "name": "python"
    }
  },
  "cells": [
    {
      "cell_type": "code",
      "execution_count": null,
      "metadata": {
        "id": "J0hy9WLlr7lA"
      },
      "outputs": [],
      "source": [
        "var_ent_cad_nombreEstudiante = \"\"\n",
        "var_ent_float_nota_PP = 0.0\n",
        "var_ent_float_nota_SP = 0.0\n",
        "var_ent_float_nota_TP = 0.0\n",
        "var_proSal_float_notaDef =0.0\n",
        "var_proSal_cad_concepto =\"\"\n",
        "var_ent_cad_nombreEstudiante = input(\"Nombre Estudiante :\")\n",
        "var_ent_float_nota_PP= float(input(\"Primer Parcial: \"))\n",
        "var_ent_float_nota_SP= float(input(\"Segundo Parcial: \"))\n",
        "var_ent_float_nota_TP= float(input(\"Tercer Parcial: \"))\n",
        "var_ent_float_TP= (var_ent_float_nota_PP + var_ent_float_nota_PP + var_ent_float_nota_TP)/3\n",
        "if(var_proSal_float_notaDef>=3.0):\n",
        "  var_proSal_cad_concepto = \"aprobo\"\n",
        "else:\n",
        "  var_proSal_cad_concepto = \"reprobo\"\n",
        "print(\"la nota definiva de\",var_ent_cad_nombreEstudiante + \"es :\" ,str(var_ent_float_nota_TP) + \"concepto : \",var_proSal_cad_concepto )"
      ]
    },
    {
      "cell_type": "code",
      "source": [
        "valorI_int=\"\"\n",
        "valorF_int=\"\"\n",
        "\n",
        "resultado_int=\"\"\n",
        "valorI_int=int(input(\"Ingrese Velocidad Inicial del carro: \"))\n",
        "valorF_int=int(input(\"ingrese velocidad Final del carro \"))\n",
        "resultado_int= valorI_int-valorF_int / 5\n",
        "print(\"La aceleracion final es\",resultado_int)"
      ],
      "metadata": {
        "id": "3dOAcXaEsJBq"
      },
      "execution_count": null,
      "outputs": []
    }
  ]
}