{
  "nbformat": 4,
  "nbformat_minor": 0,
  "metadata": {
    "colab": {
      "provenance": [],
      "toc_visible": true
    },
    "kernelspec": {
      "name": "python3",
      "display_name": "Python 3"
    },
    "language_info": {
      "name": "python"
    }
  },
  "cells": [
    {
      "cell_type": "code",
      "source": [
        "#ejercicio 1 ciclo while y for\n",
        "Numero = int(input(\"Por favor inserte el Numero en rango = \"))\n",
        "\n",
        "\n",
        "Primero = 0\n",
        "Segundo = 1\n",
        "Suma = 0\n",
        "\n",
        "for Num in range(0, Numero+1):\n",
        "    print(Primero, end = '  ')\n",
        "    Suma = Suma + Primero\n",
        "    Siguiente = Primero + Segundo\n",
        "    Primero = Segundo\n",
        "    Segundo = Siguiente\n",
        "\n",
        "print(\"La Suma de Serie de los numeros = %d\" %Suma)"
      ],
      "metadata": {
        "colab": {
          "base_uri": "https://localhost:8080/"
        },
        "id": "M-cAaQ2qLkPD",
        "outputId": "92c9582e-2023-41b5-bd1a-1fbbfe0a0543"
      },
      "execution_count": null,
      "outputs": [
        {
          "output_type": "stream",
          "name": "stdout",
          "text": [
            "Por favor inserte el Numero en rango = 8\n",
            "0  1  1  2  3  5  8  13  21  La Suma de Serie de los numeros = 54\n"
          ]
        }
      ]
    },
    {
      "cell_type": "code",
      "source": [
        "num = int(input(\"Cuantos Numeros desea mostrar? \\n \"))\n",
        "\n",
        "primero= 1 \n",
        "segundo = 1\n",
        "count = 0\n",
        "\n",
        "if num <= 0:\n",
        "    print(\"Por favor ingrese un numero >0\")\n",
        "elif num == 1:\n",
        "    print(\"secuencia numeros\",num)\n",
        "    print(primero)\n",
        "else:\n",
        "    print(\"secuencia de numeros:\")\n",
        "    while count < num:\n",
        "        print(primero)\n",
        "        suma = primero + segundo\n",
        "        primero = segundo\n",
        "        segundo = suma\n",
        "        count +=1\n",
        "    print(\"La Suma de la secuencia de numeros = %d\" %Suma)"
      ],
      "metadata": {
        "colab": {
          "base_uri": "https://localhost:8080/"
        },
        "id": "y350fnPxUWfn",
        "outputId": "7b797a88-14a5-48ff-b3ad-16003f0bf35d"
      },
      "execution_count": null,
      "outputs": [
        {
          "output_type": "stream",
          "name": "stdout",
          "text": [
            "Cuantos Numeros desea mostrar? \n",
            " 8\n",
            "secuencia de numeros:\n",
            "1\n",
            "1\n",
            "2\n",
            "3\n",
            "5\n",
            "8\n",
            "13\n",
            "21\n",
            "La Suma de la secuencia de numeros = 54\n"
          ]
        }
      ]
    },
    {
      "cell_type": "code",
      "source": [
        "#ejercicio 2\n",
        "print(\"valor factorial: \")\n",
        "def factorial(n):\n",
        "  valor_factorial = 1\n",
        "  contador = 0  \n",
        "  while contador < n:\n",
        "    valor_factorial = valor_factorial*(contador+1)\n",
        "    contador = contador+1\n",
        "  return valor_factorial\n",
        "prueba = factorial(3)\n",
        " \n",
        "print(prueba)\n",
        "m=int(input(\"ingrese el primer numero: \"))\n",
        "n=int(input(\"ingrese el segundo numero: \"))\n",
        "resta = m-n\n",
        "m =factorial(m)\n",
        "n =factorial(n)\n",
        "resta=factorial(resta)\n",
        "resultado=m/(n*resta)\n",
        "print(resultado)"
      ],
      "metadata": {
        "colab": {
          "base_uri": "https://localhost:8080/"
        },
        "id": "hd-_evdVW9_B",
        "outputId": "82ceab32-065e-485a-c5d1-cc81392363a6"
      },
      "execution_count": null,
      "outputs": [
        {
          "output_type": "stream",
          "name": "stdout",
          "text": [
            "valor factorial: \n",
            "6\n",
            "ingrese el primer numero: 10\n",
            "ingrese el segundo numero: 4\n",
            "210.0\n"
          ]
        }
      ]
    },
    {
      "cell_type": "code",
      "source": [
        "#ejercicio 3\n",
        "def sumatoria(opcion, valor): \n",
        "    if opcion == 1: \n",
        "        print(\"i=1 hasta (valor) donde i(i+1)\")\n",
        "        i = 1\n",
        "        suma = 0\n",
        "        while i<=valor:\n",
        "            suma += i*(i+1)\n",
        "            i+=1\n",
        "        return suma\n",
        "\n",
        "    elif opcion == 2: \n",
        "        print(\"i=0 hasta (valor) donde 2^n\")    \n",
        "        i = 0\n",
        "        suma = 0\n",
        "        while i<=valor:\n",
        "            suma += 2**i\n",
        "            i+=1\n",
        "        return suma\n",
        "    else: \n",
        "        print(\"i=1 hasta (valor) donde 4*n\")    \n",
        "        i = 1\n",
        "        suma = 0\n",
        "        while i<=valor:\n",
        "            suma += 4*i\n",
        "            i+=1\n",
        "        return suma\n",
        "    \n",
        "    \n",
        "def run():\n",
        "    print(\"Escoja la sumatoria del 1 al 3 :\")\n",
        "    print(\" i=1 hasta n donde i(i+1)\")\n",
        "    print(\" i=0 hasta n donde 2^n\")    \n",
        "    print(\" i=1 hasta n donde 4*n\")   \n",
        "    opcion = int(input(\"Ingrese una opcion:\"))\n",
        "    if  opcion > 0 and opcion < 4:\n",
        "        valor = int(input(\"Ingrese un valor para n = \"))\n",
        "        print(f\"Respuesta: {sumatoria(opcion, valor)}\")\n",
        "    else:\n",
        "        print(\"su opcion no es valida\")\n",
        "    \n",
        "    \n",
        "    \n",
        "    \n",
        "    \n",
        "if __name__ == '__main__':\n",
        "    run()\n",
        "  #ayuda de diferentes manuales de programacion como palabra f le permiten incluir el valor de las expresiones de Python dentro de una cadena prefijando la cadena con f o F y escribiendo expresiones como {expresion} .\n",
        "  #ayuda de difentes videos en youtube y ejemplo sacado de un grupo de promacion y ayuda de un experto en el tema "
      ],
      "metadata": {
        "colab": {
          "base_uri": "https://localhost:8080/"
        },
        "id": "6_Lj2urccROX",
        "outputId": "d46554d9-236d-4da4-e075-588e62959bb4"
      },
      "execution_count": null,
      "outputs": [
        {
          "output_type": "stream",
          "name": "stdout",
          "text": [
            "Escoja la sumatoria d 1 al 3 :\n",
            " i=1 hasta n donde i(i+1)\n",
            " i=0 hasta n donde 2^n\n",
            " i=1 hasta n donde 4*n\n",
            "Ingrese una opcion:1\n",
            "Ingrese un valor para n = 4\n",
            "i=1 hasta (valor) donde i(i+1)\n",
            "Respuesta: 40\n"
          ]
        }
      ]
    },
    {
      "cell_type": "code",
      "execution_count": null,
      "metadata": {
        "colab": {
          "base_uri": "https://localhost:8080/"
        },
        "id": "aKE3wb-hKr-C",
        "outputId": "51d94b2a-a4a6-4b6d-e034-fd689c26140e"
      },
      "outputs": [
        {
          "output_type": "stream",
          "name": "stdout",
          "text": [
            "Ingrese cantidad de hombres de la empresa : 3\n",
            "Ingrese cantidad de mujeres de la empresa : 4\n",
            "ingrese su Nombre: 5\n",
            "ingrese cuantas horas a la semana trabajo: 2\n",
            "ingrese valor de su salario mensual: 2\n",
            "sueldo de empleados\n",
            "el sueldo total de los hombres es :  6\n",
            "sueldo de empleadas \n",
            "El sueldo total de las mujeres es:  720000\n",
            "El sueldo neto es: 1260000\n",
            "5 no tiene horas extras\n",
            "5 su salario esta libre de impuestos\n",
            "5 su salario semanal es :  0.5\n"
          ]
        }
      ],
      "source": [
        "#ejercicio 4\n",
        "impuesto=int\n",
        "Salariosemanal=int\n",
        "Sueldohombres=0\n",
        "Sueldomujeres=0\n",
        "totalhombres=int(0)\n",
        "totalmujeres=int(0)\n",
        "sueldo_total_hym=int(0)\n",
        "Hombres=int(input(\"Ingrese cantidad de hombres de la empresa : \"))\n",
        "Mujeres=int(input(\"Ingrese cantidad de mujeres de la empresa : \"))\n",
        "Nombretrabajador=str(input(\"ingrese su Nombre: \"))\n",
        "Horaslaborales=int(input(\"ingrese cuantas horas a la semana trabajo: \"))\n",
        "Salarionormal=int(input(\"ingrese valor de su salario mensual: \"))\n",
        "print(\"sueldo de empleados\")\n",
        "for x in range(Hombres,1):\n",
        "  sueldohombres= Salarionormal+Salarionormal\n",
        "  print(\"el sueldo de hombre es\" , sueldohombres)\n",
        "totalhombres=Salarionormal*Hombres\n",
        "print(\"el sueldo total de los hombres es : \" ,totalhombres)\n",
        "\n",
        "print(\"sueldo de empleadas \")\n",
        "\n",
        "for x in range(Mujeres,1):\n",
        "  Sueldomujeres= Salarionormal+Salarionormal\n",
        "  print(\"El sueldo de las mujeres es: \", Sueldomujeres)\n",
        "totalmujeres=Salarionormal*Mujeres\n",
        "print(\"El sueldo total de las mujeres es: \", totalmujeres)\n",
        "\n",
        "Sueldototal=totalhombres+totalmujeres\n",
        "print(\"El sueldo neto es:\" ,Sueldototal)\n",
        "  \n",
        "if (Horaslaborales>=40):\n",
        "  Horasextras= (Horaslaborales*1.8)\n",
        "  print(Nombretrabajador,\"el valor de sus horas extras es de : \" ,Horasextras)\n",
        "\n",
        "else:\n",
        "  print(Nombretrabajador,\"no tiene horas extras\")\n",
        "\n",
        "if (Salarionormal<=1800000):\n",
        "  print(Nombretrabajador,\"su salario esta libre de impuestos\")\n",
        "\n",
        "else:\n",
        "  (Salarionormal>1800000)\n",
        "  impuesto=(Salarionormal*20)/100\n",
        "  print(Nombretrabajador,\"su valor de impuesto es \" , impuesto)\n",
        "\n",
        "if (Salarionormal>2300000):\n",
        "  impuesto=(Salarionormal*30)/100\n",
        "  print(Nombretrabajador,\"su valor de impuesto es \" , impuesto)\n",
        "\n",
        "if(Salarionormal>0):\n",
        "  Salariosemanal=Salarionormal/4\n",
        "  print(Nombretrabajador , \"su salario semanal es : \" , Salariosemanal)"
      ]
    }
  ]
}