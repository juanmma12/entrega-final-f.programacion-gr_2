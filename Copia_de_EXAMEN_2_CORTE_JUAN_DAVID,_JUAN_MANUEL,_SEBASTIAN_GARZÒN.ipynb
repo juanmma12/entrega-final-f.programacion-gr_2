{
  "nbformat": 4,
  "nbformat_minor": 0,
  "metadata": {
    "colab": {
      "provenance": []
    },
    "kernelspec": {
      "name": "python3",
      "display_name": "Python 3"
    },
    "language_info": {
      "name": "python"
    }
  },
  "cells": [
    {
      "cell_type": "code",
      "execution_count": null,
      "metadata": {
        "id": "Q572wMruqinj"
      },
      "outputs": [],
      "source": []
    },
    {
      "cell_type": "markdown",
      "source": [
        "3. Construir una función que reciba como parámetro un entero y retorne la cantidad de dígitos.\n",
        "\n"
      ],
      "metadata": {
        "id": "fWPXYruVqvnd"
      }
    },
    {
      "cell_type": "code",
      "source": [
        "def cantDigito(numEntero:int):\n",
        "    temp:int = len(str(numEntero))\n",
        "    print(f\"La cantidad de digitos son:\\t{temp}\")\n",
        "    \n",
        "cantDigito(100)"
      ],
      "metadata": {
        "colab": {
          "base_uri": "https://localhost:8080/"
        },
        "id": "CrgT0a_rAVF4",
        "outputId": "1c96c01c-6a2c-4ab2-f79d-d3b8ef66e2ed"
      },
      "execution_count": null,
      "outputs": [
        {
          "output_type": "stream",
          "name": "stdout",
          "text": [
            "La cantidad de digitos son:\t3\n"
          ]
        }
      ]
    },
    {
      "cell_type": "markdown",
      "source": [
        "23. Construir una función que reciba como parámetro dos enteros y retorne 1 si la diferencia entre los dos valores es un número primo. Deberá retor nar O si no es así."
      ],
      "metadata": {
        "id": "IqFHTtNg5J3t"
      }
    },
    {
      "cell_type": "code",
      "source": [
        "def es_primo(num):\n",
        "    if num < 2:     #si es menos que 2 no es primo, por lo tanto devolverá Falso\n",
        "        return False\n",
        "    for i in range(2, num):  #un rango desde el dos hasta el numero que nosotros elijamos\n",
        "        if num % i == 0:    #si el resto da 0 no es primo, por lo tanto devuelve Falso\n",
        "            return False\n",
        "    return True    #de lo contrario devuelve Verdadero\n",
        "\n",
        "print(es_primo(3))    #para probarlo llamamos a la función\n",
        "def primos(num1, num2):  \n",
        "\n",
        "    cont = 0\n",
        "  \n",
        "    for i in range(num1, num2):\n",
        "        if es_primo(i) == True: #Llamamos a la primera funcion para ahorrar trabajo\n",
        "            cont += 1           #Que va a determinar si es primo o no\n",
        "        print (i)               \n",
        "  \n",
        "    print (\"\\nHay\", cont, \"numeros primos\") #Total de numeros primos\n",
        "       \n",
        "print(primos(2, 47))"
      ],
      "metadata": {
        "id": "JXtMFKen0tKX"
      },
      "execution_count": null,
      "outputs": []
    },
    {
      "cell_type": "markdown",
      "source": [
        "13. Construir una función que reciba como parámetro un entero y un dígito y retorne la cantidad de veces que se encuentra dicho dígito en dicho entero.\n",
        "\n"
      ],
      "metadata": {
        "id": "M0xL5zmD5dlC"
      }
    },
    {
      "cell_type": "code",
      "source": [
        "def cuenta_de_numero(num,dig):\n",
        "    contador=0\n",
        "    variante=0\n",
        "    while num > 0:\n",
        "        variante=num%10\n",
        "        if variante == dig:\n",
        "            contador = contador + 1\n",
        "        num=num//10\n",
        "    return contador    \n",
        "numero=int(input(\"Ingrese un numero= \"))\n",
        "digito=int(input(\"Ingrese el digito= \"))\n",
        "print(cuenta_de_numero(numero,digito))\n"
      ],
      "metadata": {
        "id": "ktYWrrVaIFgR",
        "colab": {
          "base_uri": "https://localhost:8080/"
        },
        "outputId": "1143eb49-8230-42d9-eb83-5d0eba7f49b3"
      },
      "execution_count": null,
      "outputs": [
        {
          "output_type": "stream",
          "name": "stdout",
          "text": [
            "Ingrese un numero= 9000\n",
            "Ingrese el digito= 9\n",
            "1\n"
          ]
        }
      ]
    }
  ]
}