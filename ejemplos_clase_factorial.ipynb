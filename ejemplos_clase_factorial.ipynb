{
  "nbformat": 4,
  "nbformat_minor": 0,
  "metadata": {
    "colab": {
      "provenance": []
    },
    "kernelspec": {
      "name": "python3",
      "display_name": "Python 3"
    },
    "language_info": {
      "name": "python"
    }
  },
  "cells": [
    {
      "cell_type": "code",
      "execution_count": null,
      "metadata": {
        "colab": {
          "base_uri": "https://localhost:8080/"
        },
        "id": "wXsK9-BTU-t_",
        "outputId": "d84fc8f8-97b8-4646-ab6f-89c00ad5c5de"
      },
      "outputs": [
        {
          "output_type": "stream",
          "name": "stdout",
          "text": [
            "digite numero4\n",
            "el vaor factorial es: 24\n"
          ]
        }
      ],
      "source": [
        "#declarar variables\n",
        "num=0\n",
        "fac=1\n",
        "#lecturas\n",
        "num= int(input(\"digite numero\"))\n",
        "for i in range(1,num+1):\n",
        "  fac=fac*i\n",
        "  \n",
        "#imprimir\n",
        "print(\"el vaor factorial es:\",str(fac))\n"
      ]
    },
    {
      "cell_type": "code",
      "source": [
        "\n",
        "def miFactorial():\n",
        "  num=0\n",
        "  fac=1\n",
        "#lecturas\n",
        "  num= int(input(\"digite numero\"))\n",
        "  \n",
        "#calcular los procesos\n",
        "\n",
        "for i in range(1,num+1):\n",
        "  fac = fac * i\n",
        "  print(\"el vaor factorial es:\",str(fac))\n",
        "\n",
        "#llamado de mi funcion\n",
        "miFactorial()\n",
        "miFactorial()"
      ],
      "metadata": {
        "colab": {
          "base_uri": "https://localhost:8080/",
          "height": 235
        },
        "id": "0oH_iVF2jzb4",
        "outputId": "860277d7-abf5-47d0-ce94-2b04308aef5a"
      },
      "execution_count": 3,
      "outputs": [
        {
          "output_type": "error",
          "ename": "NameError",
          "evalue": "ignored",
          "traceback": [
            "\u001b[0;31m---------------------------------------------------------------------------\u001b[0m",
            "\u001b[0;31mNameError\u001b[0m                                 Traceback (most recent call last)",
            "\u001b[0;32m<ipython-input-3-3ebb89ae63dd>\u001b[0m in \u001b[0;36m<module>\u001b[0;34m\u001b[0m\n\u001b[1;32m      7\u001b[0m \u001b[0;31m#calcular los procesos\u001b[0m\u001b[0;34m\u001b[0m\u001b[0;34m\u001b[0m\u001b[0;34m\u001b[0m\u001b[0m\n\u001b[1;32m      8\u001b[0m \u001b[0;34m\u001b[0m\u001b[0m\n\u001b[0;32m----> 9\u001b[0;31m \u001b[0;32mfor\u001b[0m \u001b[0mi\u001b[0m \u001b[0;32min\u001b[0m \u001b[0mrange\u001b[0m\u001b[0;34m(\u001b[0m\u001b[0;36m1\u001b[0m\u001b[0;34m,\u001b[0m\u001b[0mnum\u001b[0m\u001b[0;34m+\u001b[0m\u001b[0;36m1\u001b[0m\u001b[0;34m)\u001b[0m\u001b[0;34m:\u001b[0m\u001b[0;34m\u001b[0m\u001b[0;34m\u001b[0m\u001b[0m\n\u001b[0m\u001b[1;32m     10\u001b[0m   \u001b[0mfac\u001b[0m \u001b[0;34m=\u001b[0m \u001b[0mfac\u001b[0m \u001b[0;34m*\u001b[0m \u001b[0mi\u001b[0m\u001b[0;34m\u001b[0m\u001b[0;34m\u001b[0m\u001b[0m\n\u001b[1;32m     11\u001b[0m   \u001b[0mprint\u001b[0m\u001b[0;34m(\u001b[0m\u001b[0;34m\"el vaor factorial es:\"\u001b[0m\u001b[0;34m,\u001b[0m\u001b[0mstr\u001b[0m\u001b[0;34m(\u001b[0m\u001b[0mfac\u001b[0m\u001b[0;34m)\u001b[0m\u001b[0;34m)\u001b[0m\u001b[0;34m\u001b[0m\u001b[0;34m\u001b[0m\u001b[0m\n",
            "\u001b[0;31mNameError\u001b[0m: name 'num' is not defined"
          ]
        }
      ]
    },
    {
      "cell_type": "code",
      "source": [
        "import math\n",
        "num=int(input(\"digite numero:\"))\n",
        "print(\"el factorial es: \",str(math.factorial(num)))"
      ],
      "metadata": {
        "colab": {
          "base_uri": "https://localhost:8080/"
        },
        "id": "KKGqrRZkc3CK",
        "outputId": "a3004c5e-d57b-4030-c722-a8c02f383a0c"
      },
      "execution_count": null,
      "outputs": [
        {
          "output_type": "stream",
          "name": "stdout",
          "text": [
            "digite numero:5\n",
            "el factorial es:  120\n"
          ]
        }
      ]
    }
  ]
}