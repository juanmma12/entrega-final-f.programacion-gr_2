{
  "nbformat": 4,
  "nbformat_minor": 0,
  "metadata": {
    "colab": {
      "provenance": []
    },
    "kernelspec": {
      "name": "python3",
      "display_name": "Python 3"
    },
    "language_info": {
      "name": "python"
    }
  },
  "cells": [
    {
      "cell_type": "code",
      "execution_count": null,
      "metadata": {
        "colab": {
          "base_uri": "https://localhost:8080/"
        },
        "id": "jW-B33d3hN-S",
        "outputId": "10d9dfd5-a693-422c-a789-e636b38d58cb"
      },
      "outputs": [
        {
          "output_type": "stream",
          "name": "stdout",
          "text": [
            "digite nombre: juan\n",
            "digite apellido: lopez\n",
            "su nombre completo es  juan lopez\n"
          ]
        }
      ],
      "source": [
        "nombre=''\n",
        "apellido=''\n",
        "nombreCompleto=''\n",
        "\n",
        "nombre= input(\"digite nombre: \")\n",
        "apellido= input(\"digite apellido: \")\n",
        "\n",
        "nombreCompleto=nombre+ \" \" +apellido\n",
        "print(\"su nombre completo es \",nombreCompleto)"
      ]
    },
    {
      "cell_type": "code",
      "source": [
        "numero = int(input(\"escriba su numero: \"))\n",
        "print(f\"su numero es ()\")"
      ],
      "metadata": {
        "id": "BuYUgFzzw-31"
      },
      "execution_count": null,
      "outputs": []
    },
    {
      "cell_type": "code",
      "source": [
        "mensaje2a = 'hola ' *10\n",
        "mensaje2b = 'mundo'\n",
        "print(mensaje2a+ mensaje2b)"
      ],
      "metadata": {
        "colab": {
          "base_uri": "https://localhost:8080/"
        },
        "id": "M6LewB4JoqTm",
        "outputId": "e98195b0-0cfb-4a8d-cbe0-91a560ec829c"
      },
      "execution_count": null,
      "outputs": [
        {
          "output_type": "stream",
          "name": "stdout",
          "text": [
            "hola hola hola hola hola hola hola hola hola hola mundo\n"
          ]
        }
      ]
    },
    {
      "cell_type": "code",
      "source": [
        "mensaje5 = \"hola mundo\" \n",
        "mensaje5a = mensaje5.find(\"q\")\n",
        "print(mensaje5a)"
      ],
      "metadata": {
        "colab": {
          "base_uri": "https://localhost:8080/"
        },
        "id": "1IHtHVoNpbI4",
        "outputId": "359b3ab9-80d6-420b-c026-ce4072427225"
      },
      "execution_count": null,
      "outputs": [
        {
          "output_type": "stream",
          "name": "stdout",
          "text": [
            "-1\n"
          ]
        }
      ]
    },
    {
      "cell_type": "code",
      "source": [
        "mensaje9= \"hola mundo\"\n",
        "startloc=2\n",
        "endloc= 8\n",
        "mensaje9b=mensaje9[startloc: endloc]\n",
        "print(mensaje9b)"
      ],
      "metadata": {
        "colab": {
          "base_uri": "https://localhost:8080/"
        },
        "id": "ymH_qdDvrzps",
        "outputId": "d733f842-f296-4827-b685-4ca566af5e3e"
      },
      "execution_count": null,
      "outputs": [
        {
          "output_type": "stream",
          "name": "stdout",
          "text": [
            "la mun\n"
          ]
        }
      ]
    }
  ]
}