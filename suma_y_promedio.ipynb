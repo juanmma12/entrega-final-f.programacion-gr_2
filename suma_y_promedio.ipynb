{
  "nbformat": 4,
  "nbformat_minor": 0,
  "metadata": {
    "colab": {
      "provenance": []
    },
    "kernelspec": {
      "name": "python3",
      "display_name": "Python 3"
    },
    "language_info": {
      "name": "python"
    }
  },
  "cells": [
    {
      "cell_type": "code",
      "execution_count": null,
      "metadata": {
        "id": "lCDzFfYlVwQG",
        "outputId": "35602e8b-0be7-4d6f-b9f5-4a1cb6de22a4",
        "colab": {
          "base_uri": "https://localhost:8080/"
        }
      },
      "outputs": [
        {
          "name": "stdout",
          "output_type": "stream",
          "text": [
            "Digite cantidad de numeros: 5\n",
            "Digite un numero : 5\n",
            "Digite un numero : 5\n",
            "Digite un numero : 5\n"
          ]
        }
      ],
      "source": [
        "#Leer cuantos numeros voy a leer, se suman y promedian\n",
        "numero = 0\n",
        "suma = 0\n",
        "promedio = 0.0\n",
        "cantidad = int(input(\"Digite cantidad de numeros: \"))\n",
        "for i in range(cantidad):\n",
        "  numero = int(input(\"Digite un numero : \"))\n",
        "  suma = suma+numero\n",
        "print(\"La suma es : \", suma)\n",
        "promedio = suma/(i+1)\n",
        "print(\"El promedio es : \",promedio)\n",
        "for i in range (cantidad):  \n",
        "  #print(\"i almacena : \", i)\n",
        "  suma = suma+i\n",
        "  #print(\"La suma es : \", suma)\n",
        "print(\"La suma es : \", suma)"
      ]
    }
  ]
}