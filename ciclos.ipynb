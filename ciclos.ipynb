{
  "nbformat": 4,
  "nbformat_minor": 0,
  "metadata": {
    "colab": {
      "provenance": []
    },
    "kernelspec": {
      "name": "python3",
      "display_name": "Python 3"
    },
    "language_info": {
      "name": "python"
    }
  },
  "cells": [
    {
      "cell_type": "code",
      "execution_count": null,
      "metadata": {
        "colab": {
          "base_uri": "https://localhost:8080/"
        },
        "id": "s-wxMPBlaiQD",
        "outputId": "93c46b92-01d1-40a0-c1eb-533594cf99c0"
      },
      "outputs": [
        {
          "output_type": "stream",
          "name": "stdout",
          "text": [
            "0\n",
            "1\n",
            "2\n",
            "3\n",
            "4\n"
          ]
        }
      ],
      "source": [
        "#ciclo para 5\n",
        "for x in range(5):\n",
        "  print(x)\n",
        "\n",
        "\n"
      ]
    },
    {
      "cell_type": "code",
      "source": [
        "#ciclo para 6\n",
        "for x in range(1,10):\n",
        "  print(x)"
      ],
      "metadata": {
        "colab": {
          "base_uri": "https://localhost:8080/"
        },
        "id": "2x2ar7bvdvDI",
        "outputId": "4589b439-8a13-4bcb-945e-78444898efe5"
      },
      "execution_count": null,
      "outputs": [
        {
          "output_type": "stream",
          "name": "stdout",
          "text": [
            "1\n",
            "2\n",
            "3\n",
            "4\n",
            "5\n",
            "6\n",
            "7\n",
            "8\n",
            "9\n"
          ]
        }
      ]
    },
    {
      "cell_type": "code",
      "source": [
        "#ciclo para 7\n",
        "for x in range(1,50,3):\n",
        "  print(x)"
      ],
      "metadata": {
        "colab": {
          "base_uri": "https://localhost:8080/"
        },
        "id": "iYTzx389eAZj",
        "outputId": "fd016fbb-1faf-4397-d7ff-b5da19ad5266"
      },
      "execution_count": null,
      "outputs": [
        {
          "output_type": "stream",
          "name": "stdout",
          "text": [
            "1\n",
            "4\n",
            "7\n",
            "10\n",
            "13\n",
            "16\n",
            "19\n",
            "22\n",
            "25\n",
            "28\n",
            "31\n",
            "34\n",
            "37\n",
            "40\n",
            "43\n",
            "46\n",
            "49\n"
          ]
        }
      ]
    },
    {
      "cell_type": "code",
      "source": [
        "#ciclo 8\n",
        "#ciclo para 6\n",
        "inicio=int(input(\"inicio : \"))\n",
        "fin=int(input(\"fin: \"))\n",
        "incremento=int(input(\"inremento: \"))\n",
        "for x in range(inicio,fin,incremento):\n",
        "  print(x)\n"
      ],
      "metadata": {
        "colab": {
          "base_uri": "https://localhost:8080/"
        },
        "id": "YLlKHIGvfO7T",
        "outputId": "e72717e7-acce-496a-ad35-53aa149e4790"
      },
      "execution_count": null,
      "outputs": [
        {
          "output_type": "stream",
          "name": "stdout",
          "text": [
            "inicio : 17\n",
            "fin: 20\n",
            "inremento: 1\n",
            "17\n",
            "18\n",
            "19\n"
          ]
        }
      ]
    },
    {
      "cell_type": "code",
      "source": [
        "#tabla de ultiplicae de un numero \n",
        "tabla= int(input(\"que tabaldesea: \"))\n",
        "for x in range(10):\n",
        "  mult= tabla* x\n",
        "  print(\"la respuesta es: \",mult)"
      ],
      "metadata": {
        "colab": {
          "base_uri": "https://localhost:8080/"
        },
        "id": "mj1sPRznibdb",
        "outputId": "5030c080-f35b-4a3e-b769-abe0558e927d"
      },
      "execution_count": null,
      "outputs": [
        {
          "output_type": "stream",
          "name": "stdout",
          "text": [
            "que tabaldesea: 7\n",
            "la respuesta es:  0\n",
            "la respuesta es:  7\n",
            "la respuesta es:  14\n",
            "la respuesta es:  21\n",
            "la respuesta es:  28\n",
            "la respuesta es:  35\n",
            "la respuesta es:  42\n",
            "la respuesta es:  49\n",
            "la respuesta es:  56\n",
            "la respuesta es:  63\n"
          ]
        }
      ]
    },
    {
      "cell_type": "code",
      "source": [
        "#tabla de ultiplicae de un numero \n",
        "tabla= int(input(\"que tabaldesea: \"))\n",
        "for x in range(1,11):\n",
        "  mult= tabla* x\n",
        "  print(\"la respuesta es: 7 x\",mult)"
      ],
      "metadata": {
        "colab": {
          "base_uri": "https://localhost:8080/"
        },
        "id": "GpU6n7Wyliav",
        "outputId": "32f378b5-cd71-4c62-95c7-cd272d467822"
      },
      "execution_count": null,
      "outputs": [
        {
          "output_type": "stream",
          "name": "stdout",
          "text": [
            "que tabaldesea: 7\n",
            "la respuesta es: 7 x 7\n",
            "la respuesta es: 7 x 14\n",
            "la respuesta es: 7 x 21\n",
            "la respuesta es: 7 x 28\n",
            "la respuesta es: 7 x 35\n",
            "la respuesta es: 7 x 42\n",
            "la respuesta es: 7 x 49\n",
            "la respuesta es: 7 x 56\n",
            "la respuesta es: 7 x 63\n",
            "la respuesta es: 7 x 70\n"
          ]
        }
      ]
    },
    {
      "cell_type": "code",
      "source": [
        "#tabla de multiplicar de un numero \n",
        "tabla= int(input(\"que tabaldesea: \"))\n",
        "for x in range(1,11):\n",
        "  mult= tabla* x\n",
        "  print(str(tabla)+\"x\"+str(x)+\"=\"+str(mult))"
      ],
      "metadata": {
        "colab": {
          "base_uri": "https://localhost:8080/"
        },
        "id": "TQP-AIzrnN4c",
        "outputId": "359cfa5b-a82f-45a7-dffb-131d5cbfc6b1"
      },
      "execution_count": null,
      "outputs": [
        {
          "output_type": "stream",
          "name": "stdout",
          "text": [
            "que tabaldesea: 9\n",
            "9x1=9\n",
            "9x2=18\n",
            "9x3=27\n",
            "9x4=36\n",
            "9x5=45\n",
            "9x6=54\n",
            "9x7=63\n",
            "9x8=72\n",
            "9x9=81\n",
            "9x10=90\n"
          ]
        }
      ]
    }
  ]
}